{
 "cells": [
  {
   "cell_type": "code",
   "execution_count": 52,
   "metadata": {},
   "outputs": [],
   "source": [
    "import numpy as np\n",
    "import gym\n",
    "import random\n",
    "import time\n",
    "from IPython.display import clear_output"
   ]
  },
  {
   "cell_type": "code",
   "execution_count": 53,
   "metadata": {},
   "outputs": [],
   "source": [
    "env = gym.make(\"FrozenLake-v0\")"
   ]
  },
  {
   "cell_type": "code",
   "execution_count": 54,
   "metadata": {},
   "outputs": [
    {
     "name": "stdout",
     "output_type": "stream",
     "text": [
      "[[0. 0. 0. 0.]\n",
      " [0. 0. 0. 0.]\n",
      " [0. 0. 0. 0.]\n",
      " [0. 0. 0. 0.]\n",
      " [0. 0. 0. 0.]\n",
      " [0. 0. 0. 0.]\n",
      " [0. 0. 0. 0.]\n",
      " [0. 0. 0. 0.]\n",
      " [0. 0. 0. 0.]\n",
      " [0. 0. 0. 0.]\n",
      " [0. 0. 0. 0.]\n",
      " [0. 0. 0. 0.]\n",
      " [0. 0. 0. 0.]\n",
      " [0. 0. 0. 0.]\n",
      " [0. 0. 0. 0.]\n",
      " [0. 0. 0. 0.]]\n"
     ]
    }
   ],
   "source": [
    "action_space_size = env.action_space.n\n",
    "state_space_size = env.observation_space.n\n",
    "\n",
    "q_table = np.zeros((state_space_size,action_space_size))\n",
    "print(q_table)"
   ]
  },
  {
   "cell_type": "code",
   "execution_count": 44,
   "metadata": {},
   "outputs": [
    {
     "name": "stdout",
     "output_type": "stream",
     "text": [
      "16\n"
     ]
    }
   ],
   "source": [
    "print(state_space_size)"
   ]
  },
  {
   "cell_type": "code",
   "execution_count": 45,
   "metadata": {},
   "outputs": [],
   "source": [
    "# left\n",
    "q_table[0][0]=-10\n",
    "q_table[4][0]=-10\n",
    "q_table[8][0]=-10\n",
    "q_table[12][0]=-10"
   ]
  },
  {
   "cell_type": "code",
   "execution_count": 46,
   "metadata": {},
   "outputs": [],
   "source": [
    "# up\n",
    "q_table[0][3]=-10\n",
    "q_table[1][3]=-10\n",
    "q_table[2][3]=-10\n",
    "q_table[3][3]=-10"
   ]
  },
  {
   "cell_type": "code",
   "execution_count": 47,
   "metadata": {},
   "outputs": [],
   "source": [
    "# down\n",
    "q_table[12][1]=-10\n",
    "q_table[13][1]=-10\n",
    "q_table[14][1]=-10\n",
    "q_table[15][1]=-10"
   ]
  },
  {
   "cell_type": "code",
   "execution_count": 48,
   "metadata": {},
   "outputs": [],
   "source": [
    "# right\n",
    "q_table[3][2]=-10\n",
    "q_table[7][2]=-10\n",
    "q_table[11][2]=-10\n",
    "q_table[15][2]=-10"
   ]
  },
  {
   "cell_type": "code",
   "execution_count": 49,
   "metadata": {},
   "outputs": [
    {
     "name": "stdout",
     "output_type": "stream",
     "text": [
      "[[-10.   0.   0. -10.]\n",
      " [  0.   0.   0. -10.]\n",
      " [  0.   0.   0. -10.]\n",
      " [  0.   0. -10. -10.]\n",
      " [-10.   0.   0.   0.]\n",
      " [  0.   0.   0.   0.]\n",
      " [  0.   0.   0.   0.]\n",
      " [  0.   0. -10.   0.]\n",
      " [-10.   0.   0.   0.]\n",
      " [  0.   0.   0.   0.]\n",
      " [  0.   0.   0.   0.]\n",
      " [  0.   0. -10.   0.]\n",
      " [-10. -10.   0.   0.]\n",
      " [  0. -10.   0.   0.]\n",
      " [  0. -10.   0.   0.]\n",
      " [  0. -10. -10.   0.]]\n"
     ]
    }
   ],
   "source": [
    "print(q_table)"
   ]
  },
  {
   "cell_type": "code",
   "execution_count": 55,
   "metadata": {},
   "outputs": [],
   "source": [
    "num_episodes = 10000\n",
    "max_steps_per_episode = 100\n",
    "\n",
    "learning_rate = 0.1\n",
    "discount_rate = 0.99\n",
    "\n",
    "exploration_rate = 1\n",
    "max_exploration_rate = 1\n",
    "min_exploration_rate = 0.01\n",
    "exploration_decay_rate = 0.001"
   ]
  },
  {
   "cell_type": "code",
   "execution_count": 56,
   "metadata": {},
   "outputs": [
    {
     "name": "stdout",
     "output_type": "stream",
     "text": [
      "Average reward per thousand episodes \n",
      "\n",
      "1000 :  0.059000000000000045\n",
      "2000 :  0.19300000000000014\n",
      "3000 :  0.4110000000000003\n",
      "4000 :  0.5530000000000004\n",
      "5000 :  0.6140000000000004\n",
      "6000 :  0.6850000000000005\n",
      "7000 :  0.6740000000000005\n",
      "8000 :  0.6980000000000005\n",
      "9000 :  0.6690000000000005\n",
      "10000 :  0.7240000000000005\n",
      "Q Table Finally:\n",
      "\n",
      "[[0.61276697 0.50783346 0.51838417 0.54334951]\n",
      " [0.30543779 0.27824312 0.31356292 0.54259771]\n",
      " [0.42510158 0.42501957 0.41334541 0.49855835]\n",
      " [0.38483578 0.31465041 0.2647475  0.46457838]\n",
      " [0.62376529 0.4245813  0.33975028 0.39360969]\n",
      " [0.         0.         0.         0.        ]\n",
      " [0.42379088 0.12069329 0.21396152 0.14807712]\n",
      " [0.         0.         0.         0.        ]\n",
      " [0.45158934 0.39949998 0.45411693 0.64965063]\n",
      " [0.30726662 0.67345302 0.54965763 0.51798945]\n",
      " [0.61300926 0.30082988 0.38348733 0.42530474]\n",
      " [0.         0.         0.         0.        ]\n",
      " [0.         0.         0.         0.        ]\n",
      " [0.47448075 0.56296164 0.78543076 0.48512874]\n",
      " [0.72079631 0.92124555 0.75140622 0.78565457]\n",
      " [0.         0.         0.         0.        ]]\n"
     ]
    }
   ],
   "source": [
    "rewards_all_episodes = []\n",
    "\n",
    "for episode in range(num_episodes):\n",
    "    state = env.reset()\n",
    "    \n",
    "    done = False\n",
    "    rewards_current_episode = 0\n",
    "    \n",
    "    for steps in range(max_steps_per_episode):\n",
    "        \n",
    "        exploration_rate_threshold = random.uniform(0,1)\n",
    "        if exploration_rate_threshold >exploration_rate and ~np.all(q_table[state,:]==0):\n",
    "            action = np.argmax(q_table[state,:])\n",
    "        else:\n",
    "            action = env.action_space.sample()\n",
    "        new_state,reward,done,info = env.step(action)\n",
    "        \n",
    "        q_table[state,action] = q_table[state,action] * (1-learning_rate)+ learning_rate*(reward + discount_rate*np.max(q_table[new_state,:]))\n",
    "        \n",
    "        state = new_state\n",
    "        rewards_current_episode += reward\n",
    "        \n",
    "        if done:\n",
    "            break\n",
    "            \n",
    "    exploration_rate = min_exploration_rate + (max_exploration_rate-min_exploration_rate)*np.exp(-exploration_decay_rate*episode)\n",
    "    rewards_all_episodes.append(rewards_current_episode)\n",
    "\n",
    "\n",
    "rewards_per_thousand_episodes = np.split(np.array(rewards_all_episodes),num_episodes/1000)\n",
    "count = 1000\n",
    "print(\"Average reward per thousand episodes \\n\")\n",
    "for r in rewards_per_thousand_episodes:\n",
    "    print(count,\": \", str(sum(r/1000)))\n",
    "    count+=1000\n",
    "print(\"Q Table Finally:\\n\")\n",
    "print(q_table)"
   ]
  },
  {
   "cell_type": "code",
   "execution_count": 57,
   "metadata": {},
   "outputs": [
    {
     "name": "stdout",
     "output_type": "stream",
     "text": [
      "  (Down)\n",
      "SFFF\n",
      "FHFH\n",
      "FFFH\n",
      "HFF\u001b[41mG\u001b[0m\n",
      "You reached the goal! \n",
      "\n"
     ]
    }
   ],
   "source": [
    "for episode in range(3):\n",
    "    state = env.reset()\n",
    "    done = False\n",
    "    print(\"EPISODE: \",episode+1,\"\\n\\n\\n\")\n",
    "    time.sleep(1)\n",
    "    \n",
    "    for step in range(max_steps_per_episode):\n",
    "        clear_output(wait = True)\n",
    "        env.render()\n",
    "        time.sleep(0.3)\n",
    "        \n",
    "        action = np.argmax(q_table[state,:])\n",
    "        new_state, reward,done,info = env.step(action)\n",
    "        \n",
    "        if done:\n",
    "            clear_output(wait=True)\n",
    "            env.render()\n",
    "            if reward == 1:\n",
    "                print(\"You reached the goal! \\n\")\n",
    "                time.sleep(3)\n",
    "            else:\n",
    "                print(\"You fell through a hole\\n\")\n",
    "                time.sleep(3)\n",
    "            clear_output(wait = True)\n",
    "            break\n",
    "            \n",
    "        state = new_state\n",
    "env.close()"
   ]
  },
  {
   "cell_type": "code",
   "execution_count": null,
   "metadata": {},
   "outputs": [],
   "source": []
  }
 ],
 "metadata": {
  "kernelspec": {
   "display_name": "Python 3",
   "language": "python",
   "name": "python3"
  },
  "language_info": {
   "codemirror_mode": {
    "name": "ipython",
    "version": 3
   },
   "file_extension": ".py",
   "mimetype": "text/x-python",
   "name": "python",
   "nbconvert_exporter": "python",
   "pygments_lexer": "ipython3",
   "version": "3.6.8"
  }
 },
 "nbformat": 4,
 "nbformat_minor": 4
}
